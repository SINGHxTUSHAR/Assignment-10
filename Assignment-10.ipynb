{
 "cells": [
  {
   "cell_type": "markdown",
   "id": "a7894c5f",
   "metadata": {},
   "source": [
    "Q1.What is multi threading and how to acheive it? Name the module use to handle the threading?"
   ]
  },
  {
   "cell_type": "markdown",
   "id": "24656f77",
   "metadata": {},
   "source": [
    "Multithreading : it is the ability of the processor to handle multiple threads at a time or can perform multiple task together.\n",
    "\n",
    "    \n",
    "import threading moudule is use for multithreading in python."
   ]
  },
  {
   "cell_type": "code",
   "execution_count": 2,
   "id": "03bfc149",
   "metadata": {},
   "outputs": [],
   "source": [
    "# multithreading :\n",
    "\n",
    "import threading\n",
    "\n",
    "def print_fun(msg):\n",
    "     print(msg)"
   ]
  },
  {
   "cell_type": "code",
   "execution_count": 5,
   "id": "c6352232",
   "metadata": {},
   "outputs": [],
   "source": [
    "thread = (threading.Thread(target=print_fun,args=(i,))for i in range(5))"
   ]
  },
  {
   "cell_type": "code",
   "execution_count": 6,
   "id": "f873e6dc",
   "metadata": {},
   "outputs": [
    {
     "name": "stdout",
     "output_type": "stream",
     "text": [
      "0\n",
      "1\n",
      "2\n",
      "3\n",
      "4\n"
     ]
    }
   ],
   "source": [
    "for num in thread:\n",
    "    num.start()"
   ]
  },
  {
   "cell_type": "code",
   "execution_count": null,
   "id": "c887febc",
   "metadata": {},
   "outputs": [],
   "source": []
  },
  {
   "cell_type": "markdown",
   "id": "8daaa44a",
   "metadata": {},
   "source": [
    "Q2.why threading moudule is used ? what are the use of the following:\n",
    "\n",
    "1.activeCount()\n",
    "2.currentThread()\n",
    "3.enumerate()"
   ]
  },
  {
   "cell_type": "markdown",
   "id": "b926406e",
   "metadata": {},
   "source": [
    "Threading moudule is used to perform the different type of threading on the program "
   ]
  },
  {
   "cell_type": "markdown",
   "id": "482b34bc",
   "metadata": {},
   "source": [
    " activeCount():\n",
    "\n",
    " the method threading.active_co unt() from the threading module is used to count the currently active or running threads."
   ]
  },
  {
   "cell_type": "markdown",
   "id": "5466de83",
   "metadata": {},
   "source": [
    "currentThread():\n",
    "    \n",
    "threading.currentThread() − Returns the number of thread objects in the caller's thread control"
   ]
  },
  {
   "cell_type": "markdown",
   "id": "c1ac1989",
   "metadata": {},
   "source": [
    "enumerate():\n",
    "    \n",
    "threading.enumerate() − Returns a list of all thread objects that are currently active"
   ]
  },
  {
   "cell_type": "code",
   "execution_count": null,
   "id": "523f3e92",
   "metadata": {},
   "outputs": [],
   "source": []
  },
  {
   "cell_type": "markdown",
   "id": "9c8bb110",
   "metadata": {},
   "source": [
    "Q3.Explain the following functions:"
   ]
  },
  {
   "cell_type": "markdown",
   "id": "7a7d53ff",
   "metadata": {},
   "source": [
    "run() : this method executes any target function belonging to a given thread object that is now active. It normally executes in the background after the . start() method is invoked."
   ]
  },
  {
   "cell_type": "markdown",
   "id": "2f13606e",
   "metadata": {},
   "source": [
    "start() : this method is an inbuilt method of the Thread class of the threading module, it is used to start a thread's activity. This method calls the run() method internally which then executes the target method. This method must be called at most one time for one thread."
   ]
  },
  {
   "cell_type": "markdown",
   "id": "8b49e6f9",
   "metadata": {},
   "source": [
    "join(): A thread can be joined in Python by calling the Thread. join() method. This has the effect of blocking the current thread until the target thread that has been joined has terminated."
   ]
  },
  {
   "cell_type": "markdown",
   "id": "bf97c312",
   "metadata": {},
   "source": [
    "isAlive(): The is_alive() method tests whether the thread is alive. Other threads can call a thread's join() method. This blocks the calling thread until the thread whose join() method is called is terminated. A thread has a name."
   ]
  },
  {
   "cell_type": "code",
   "execution_count": null,
   "id": "c9ed5264",
   "metadata": {},
   "outputs": [],
   "source": []
  },
  {
   "cell_type": "markdown",
   "id": "095bfc54",
   "metadata": {},
   "source": [
    "Q4.write a python program in which first thread should print the list of square and second thread should print the list of the cubes?"
   ]
  },
  {
   "cell_type": "code",
   "execution_count": 22,
   "id": "3440e2f6",
   "metadata": {},
   "outputs": [],
   "source": [
    "import threading # import the thread module  \n",
    "import time # import time module  \n",
    "  \n",
    "def cal_sqre(num): # define the cal_sqre function  \n",
    "    print(\" Calculate the square root of the given number\")  \n",
    "    for n in num:   \n",
    "        time.sleep(0.3) # at each iteration it waits for 0.3 time  \n",
    "        print(' Square is : ', n * n)"
   ]
  },
  {
   "cell_type": "code",
   "execution_count": 23,
   "id": "15621e37",
   "metadata": {},
   "outputs": [],
   "source": [
    " def cal_cube(num): # define the cal_cube() function  \n",
    "    print(\" Calculate the cube of  the given number\")  \n",
    "    for n in num:   \n",
    "        time.sleep(0.3) # at each iteration it waits for 0.3 time  \n",
    "        print(\" Cube is : \", n * n *n)"
   ]
  },
  {
   "cell_type": "code",
   "execution_count": 24,
   "id": "f0c9c1c5",
   "metadata": {},
   "outputs": [
    {
     "name": "stdout",
     "output_type": "stream",
     "text": [
      " Calculate the square root of the given number\n",
      " Square is :  16\n",
      " Square is :  25\n",
      " Square is :  36\n",
      " Square is :  49\n",
      " Square is :  4\n",
      " Calculate the cube of  the given number\n",
      " Cube is :  64\n",
      " Cube is :  125\n",
      " Cube is :  216\n",
      " Cube is :  343\n",
      " Cube is :  8\n",
      " Total time taken by threads is : 3.0901522636413574\n"
     ]
    }
   ],
   "source": [
    "arr = [4, 5, 6, 7, 2] # given array  \n",
    "  \n",
    "t1 = time.time() # get total time to execute the functions  \n",
    "cal_sqre(arr) # call cal_sqre() function  \n",
    "cal_cube(arr) # call cal_cube() function  \n",
    "  \n",
    "print(\" Total time taken by threads is :\", time.time() - t1) # print the total time "
   ]
  },
  {
   "cell_type": "code",
   "execution_count": 10,
   "id": "c209e11a",
   "metadata": {},
   "outputs": [],
   "source": []
  },
  {
   "cell_type": "markdown",
   "id": "f7d64e01",
   "metadata": {},
   "source": [
    "Q5.Advantages and Disadvantages of the multithreading?"
   ]
  },
  {
   "cell_type": "code",
   "execution_count": null,
   "id": "146be2f8",
   "metadata": {},
   "outputs": [],
   "source": [
    "Advantages:\n",
    "    streamlines the efficient utilization of resources as the threads share the same memory and data space\n",
    "    Improved performance and concurrency\n",
    "    Simplified coding of remote procedure calls and conversations\n",
    "    Reduced number of required servers"
   ]
  },
  {
   "cell_type": "markdown",
   "id": "9c3b265e",
   "metadata": {},
   "source": [
    "Disadvantages:\n",
    "    Difficulty of writing code\n",
    "    Difficulty of debugging\n",
    "    Difficulty of managing concurrency\n",
    "    Difficulty of testing and Difficulty of porting existing code"
   ]
  },
  {
   "cell_type": "code",
   "execution_count": null,
   "id": "651f338f",
   "metadata": {},
   "outputs": [],
   "source": []
  },
  {
   "cell_type": "markdown",
   "id": "1a763d55",
   "metadata": {},
   "source": [
    "Q6.Explain the deadlock and race condition?"
   ]
  },
  {
   "cell_type": "markdown",
   "id": "75861594",
   "metadata": {},
   "source": [
    "Race Condition And Deadlock :\n",
    "\n",
    "\n",
    "Both share some similarities, such as they both occur in multi-thread solutions and hamper device performance. However, both are not the same. A race condition occurs when two threads use the same variable at a given time. Deadlock exists when two threads seek one lock simultaneously"
   ]
  },
  {
   "cell_type": "code",
   "execution_count": null,
   "id": "d2e9b879",
   "metadata": {},
   "outputs": [],
   "source": []
  },
  {
   "cell_type": "code",
   "execution_count": null,
   "id": "d0223d27",
   "metadata": {},
   "outputs": [],
   "source": []
  }
 ],
 "metadata": {
  "kernelspec": {
   "display_name": "Python 3 (ipykernel)",
   "language": "python",
   "name": "python3"
  },
  "language_info": {
   "codemirror_mode": {
    "name": "ipython",
    "version": 3
   },
   "file_extension": ".py",
   "mimetype": "text/x-python",
   "name": "python",
   "nbconvert_exporter": "python",
   "pygments_lexer": "ipython3",
   "version": "3.9.12"
  }
 },
 "nbformat": 4,
 "nbformat_minor": 5
}
